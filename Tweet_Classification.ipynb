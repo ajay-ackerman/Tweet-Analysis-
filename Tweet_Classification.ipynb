{
 "cells": [
  {
   "cell_type": "code",
   "execution_count": 2,
   "id": "0c2c657b",
   "metadata": {},
   "outputs": [],
   "source": [
    "# This Python 3 environment comes with many helpful analytics libraries installed\n",
    "# It is defined by the kaggle/python Docker image: https://github.com/kaggle/docker-python\n",
    "# For example, here's several helpful packages to load\n",
    "\n",
    "import numpy as np # linear algebra\n",
    "import pandas as pd # data processing, CSV file I/O (e.g. pd.read_csv)\n",
    "\n",
    "# Input data files are available in the read-only \"../input/\" directory\n",
    "# For example, running this (by clicking run or pressing Shift+Enter) will list all files under the input directory\n",
    "\n",
    "import os\n",
    "for dirname, _, filenames in os.walk('/kaggle/input'):\n",
    "    for filename in filenames:\n",
    "        print(os.path.join(dirname, filename))\n",
    "\n",
    "# You can write up to 20GB to the current directory (/kaggle/working/) that gets preserved as output when you create a version using \"Save & Run All\" \n",
    "# You can also write temporary files to /kaggle/temp/, but they won't be saved outside of the current session"
   ]
  },
  {
   "cell_type": "code",
   "execution_count": 3,
   "id": "40d3d1d6",
   "metadata": {},
   "outputs": [
    {
     "name": "stderr",
     "output_type": "stream",
     "text": [
      "C:\\Users\\SUJIT JADHAV\\AppData\\Local\\Temp\\ipykernel_22740\\1080066900.py:1: DtypeWarning: Columns (22) have mixed types. Specify dtype option on import or set low_memory=False.\n",
      "  df = pd.read_csv('data_analysis.csv')\n"
     ]
    }
   ],
   "source": [
    "df = pd.read_csv('data_analysis.csv')"
   ]
  },
  {
   "cell_type": "code",
   "execution_count": 4,
   "id": "5ea41c0d",
   "metadata": {},
   "outputs": [
    {
     "name": "stdout",
     "output_type": "stream",
     "text": [
      "                        id      conversation_id               created_at  \\\n",
      "0      1406397735792791556  1406397735792791556  2021-06-20 05:15:24 IST   \n",
      "1      1406057066058313733  1406057066058313733  2021-06-19 06:41:42 IST   \n",
      "2      1405965100993986561  1405965100993986561  2021-06-19 00:36:16 IST   \n",
      "3      1405935463374991366  1405935461042958338  2021-06-18 22:38:30 IST   \n",
      "4      1405918849329991694  1405918849329991694  2021-06-18 21:32:29 IST   \n",
      "...                    ...                  ...                      ...   \n",
      "39111           7443517384           7443517384  2010-01-06 20:45:45 IST   \n",
      "39112           7426790266           7426790266  2010-01-06 08:40:39 IST   \n",
      "39113           7416161173           7416161173  2010-01-06 03:04:30 IST   \n",
      "39114           7285952223           7285952223  2010-01-02 07:31:05 IST   \n",
      "39115           7274159499           7274159499  2010-01-01 23:11:04 IST   \n",
      "\n",
      "             date      time  timezone     user_id      username  \\\n",
      "0      2021-06-20  05:15:24       530    16001827    spj_tweets   \n",
      "1      2021-06-19  06:41:42       530  1067308099  coastguardph   \n",
      "2      2021-06-19  00:36:16       530   167406704     yaelkohen   \n",
      "3      2021-06-18  22:38:30       530    29206490       ieeeusa   \n",
      "4      2021-06-18  21:32:29       530    31696962     dw_europe   \n",
      "...           ...       ...       ...         ...           ...   \n",
      "39111  2010-01-06  20:45:45       530    44374617  washpostjobs   \n",
      "39112  2010-01-06  08:40:39       530     6003222        solano   \n",
      "39113  2010-01-06  03:04:30       530    27221778    jennpozner   \n",
      "39114  2010-01-02  07:31:05       530     1147491         cocoy   \n",
      "39115  2010-01-01  23:11:04       530    30318595       project   \n",
      "\n",
      "                                      name place  ... geo source user_rt_id  \\\n",
      "0      Society of Professional Journalists   NaN  ... NaN    NaN        NaN   \n",
      "1                   Philippine Coast Guard   NaN  ... NaN    NaN        NaN   \n",
      "2                               Yael Kohen   NaN  ... NaN    NaN        NaN   \n",
      "3                                 IEEE-USA   NaN  ... NaN    NaN        NaN   \n",
      "4                                DW Europe   NaN  ... NaN    NaN        NaN   \n",
      "...                                    ...   ...  ...  ..    ...        ...   \n",
      "39111                 Washington Post Jobs   NaN  ... NaN    NaN        NaN   \n",
      "39112                Víctor @Solano Franco   NaN  ... NaN    NaN        NaN   \n",
      "39113                   Jennifer L. Pozner   NaN  ... NaN    NaN        NaN   \n",
      "39114                          Cocoy Dayao   NaN  ... NaN    NaN        NaN   \n",
      "39115                    Microsoft Project   NaN  ... NaN    NaN        NaN   \n",
      "\n",
      "      user_rt retweet_id  reply_to  retweet_date  translate trans_src  \\\n",
      "0         NaN        NaN        []           NaN        NaN       NaN   \n",
      "1         NaN        NaN        []           NaN        NaN       NaN   \n",
      "2         NaN        NaN        []           NaN        NaN       NaN   \n",
      "3         NaN        NaN        []           NaN        NaN       NaN   \n",
      "4         NaN        NaN        []           NaN        NaN       NaN   \n",
      "...       ...        ...       ...           ...        ...       ...   \n",
      "39111     NaN        NaN        []           NaN        NaN       NaN   \n",
      "39112     NaN        NaN        []           NaN        NaN       NaN   \n",
      "39113     NaN        NaN        []           NaN        NaN       NaN   \n",
      "39114     NaN        NaN        []           NaN        NaN       NaN   \n",
      "39115     NaN        NaN        []           NaN        NaN       NaN   \n",
      "\n",
      "      trans_dest  \n",
      "0            NaN  \n",
      "1            NaN  \n",
      "2            NaN  \n",
      "3            NaN  \n",
      "4            NaN  \n",
      "...          ...  \n",
      "39111        NaN  \n",
      "39112        NaN  \n",
      "39113        NaN  \n",
      "39114        NaN  \n",
      "39115        NaN  \n",
      "\n",
      "[39116 rows x 36 columns]\n"
     ]
    }
   ],
   "source": [
    "print(df)"
   ]
  },
  {
   "cell_type": "code",
   "execution_count": 6,
   "id": "4dd6c680",
   "metadata": {},
   "outputs": [],
   "source": [
    "import numpy as np\n",
    "import pandas as pd\n",
    "import matplotlib.pyplot as plt\n",
    "import seaborn as sns\n"
   ]
  },
  {
   "cell_type": "code",
   "execution_count": 7,
   "id": "baa43645",
   "metadata": {},
   "outputs": [
    {
     "name": "stdout",
     "output_type": "stream",
     "text": [
      "Collecting wordcloud\n",
      "  Obtaining dependency information for wordcloud from https://files.pythonhosted.org/packages/f5/b0/247159f61c5d5d6647171bef84430b7efad4db504f0229674024f3a4f7f2/wordcloud-1.9.3-cp311-cp311-win_amd64.whl.metadata\n",
      "  Downloading wordcloud-1.9.3-cp311-cp311-win_amd64.whl.metadata (3.5 kB)\n",
      "Requirement already satisfied: numpy>=1.6.1 in c:\\users\\sujit jadhav\\anaconda3\\lib\\site-packages (from wordcloud) (1.24.3)\n",
      "Requirement already satisfied: pillow in c:\\users\\sujit jadhav\\anaconda3\\lib\\site-packages (from wordcloud) (9.4.0)\n",
      "Requirement already satisfied: matplotlib in c:\\users\\sujit jadhav\\anaconda3\\lib\\site-packages (from wordcloud) (3.7.1)\n",
      "Requirement already satisfied: contourpy>=1.0.1 in c:\\users\\sujit jadhav\\anaconda3\\lib\\site-packages (from matplotlib->wordcloud) (1.0.5)\n",
      "Requirement already satisfied: cycler>=0.10 in c:\\users\\sujit jadhav\\anaconda3\\lib\\site-packages (from matplotlib->wordcloud) (0.11.0)\n",
      "Requirement already satisfied: fonttools>=4.22.0 in c:\\users\\sujit jadhav\\anaconda3\\lib\\site-packages (from matplotlib->wordcloud) (4.25.0)\n",
      "Requirement already satisfied: kiwisolver>=1.0.1 in c:\\users\\sujit jadhav\\anaconda3\\lib\\site-packages (from matplotlib->wordcloud) (1.4.4)\n",
      "Requirement already satisfied: packaging>=20.0 in c:\\users\\sujit jadhav\\anaconda3\\lib\\site-packages (from matplotlib->wordcloud) (23.0)\n",
      "Requirement already satisfied: pyparsing>=2.3.1 in c:\\users\\sujit jadhav\\anaconda3\\lib\\site-packages (from matplotlib->wordcloud) (3.0.9)\n",
      "Requirement already satisfied: python-dateutil>=2.7 in c:\\users\\sujit jadhav\\anaconda3\\lib\\site-packages (from matplotlib->wordcloud) (2.8.2)\n",
      "Requirement already satisfied: six>=1.5 in c:\\users\\sujit jadhav\\anaconda3\\lib\\site-packages (from python-dateutil>=2.7->matplotlib->wordcloud) (1.16.0)\n",
      "Downloading wordcloud-1.9.3-cp311-cp311-win_amd64.whl (300 kB)\n",
      "   ---------------------------------------- 0.0/300.2 kB ? eta -:--:--\n",
      "   ---- ----------------------------------- 30.7/300.2 kB 1.3 MB/s eta 0:00:01\n",
      "   ---- ----------------------------------- 30.7/300.2 kB 1.3 MB/s eta 0:00:01\n",
      "   ----------- --------------------------- 92.2/300.2 kB 744.7 kB/s eta 0:00:01\n",
      "   ---------------------- --------------- 174.1/300.2 kB 871.5 kB/s eta 0:00:01\n",
      "   ---------------------------------- ----- 256.0/300.2 kB 1.0 MB/s eta 0:00:01\n",
      "   ---------------------------------------- 300.2/300.2 kB 1.2 MB/s eta 0:00:00\n",
      "Installing collected packages: wordcloud\n",
      "Successfully installed wordcloud-1.9.3\n",
      "Note: you may need to restart the kernel to use updated packages.\n"
     ]
    }
   ],
   "source": [
    "pip install  wordcloud "
   ]
  },
  {
   "cell_type": "code",
   "execution_count": 9,
   "id": "ecf95512",
   "metadata": {},
   "outputs": [],
   "source": [
    "from wordcloud import WordCloud"
   ]
  },
  {
   "cell_type": "code",
   "execution_count": 10,
   "id": "26313fed",
   "metadata": {},
   "outputs": [
    {
     "name": "stdout",
     "output_type": "stream",
     "text": [
      "<class 'pandas.core.frame.DataFrame'>\n",
      "RangeIndex: 39116 entries, 0 to 39115\n",
      "Data columns (total 36 columns):\n",
      " #   Column           Non-Null Count  Dtype  \n",
      "---  ------           --------------  -----  \n",
      " 0   id               39116 non-null  int64  \n",
      " 1   conversation_id  39116 non-null  int64  \n",
      " 2   created_at       39116 non-null  object \n",
      " 3   date             39116 non-null  object \n",
      " 4   time             39116 non-null  object \n",
      " 5   timezone         39116 non-null  int64  \n",
      " 6   user_id          39116 non-null  int64  \n",
      " 7   username         39116 non-null  object \n",
      " 8   name             39116 non-null  object \n",
      " 9   place            92 non-null     object \n",
      " 10  tweet            39116 non-null  object \n",
      " 11  language         39116 non-null  object \n",
      " 12  mentions         39116 non-null  object \n",
      " 13  urls             39116 non-null  object \n",
      " 14  photos           39116 non-null  object \n",
      " 15  replies_count    39116 non-null  int64  \n",
      " 16  retweets_count   39116 non-null  int64  \n",
      " 17  likes_count      39116 non-null  int64  \n",
      " 18  hashtags         39116 non-null  object \n",
      " 19  cashtags         39116 non-null  object \n",
      " 20  link             39116 non-null  object \n",
      " 21  retweet          39116 non-null  bool   \n",
      " 22  quote_url        1622 non-null   object \n",
      " 23  video            39116 non-null  int64  \n",
      " 24  thumbnail        11142 non-null  object \n",
      " 25  near             0 non-null      float64\n",
      " 26  geo              0 non-null      float64\n",
      " 27  source           0 non-null      float64\n",
      " 28  user_rt_id       0 non-null      float64\n",
      " 29  user_rt          0 non-null      float64\n",
      " 30  retweet_id       0 non-null      float64\n",
      " 31  reply_to         39116 non-null  object \n",
      " 32  retweet_date     0 non-null      float64\n",
      " 33  translate        0 non-null      float64\n",
      " 34  trans_src        0 non-null      float64\n",
      " 35  trans_dest       0 non-null      float64\n",
      "dtypes: bool(1), float64(10), int64(8), object(17)\n",
      "memory usage: 10.5+ MB\n"
     ]
    }
   ],
   "source": [
    "df.info()"
   ]
  },
  {
   "cell_type": "code",
   "execution_count": 11,
   "id": "c0e0e44e",
   "metadata": {},
   "outputs": [
    {
     "data": {
      "text/plain": [
       "id                     0\n",
       "conversation_id        0\n",
       "created_at             0\n",
       "date                   0\n",
       "time                   0\n",
       "timezone               0\n",
       "user_id                0\n",
       "username               0\n",
       "name                   0\n",
       "place              39024\n",
       "tweet                  0\n",
       "language               0\n",
       "mentions               0\n",
       "urls                   0\n",
       "photos                 0\n",
       "replies_count          0\n",
       "retweets_count         0\n",
       "likes_count            0\n",
       "hashtags               0\n",
       "cashtags               0\n",
       "link                   0\n",
       "retweet                0\n",
       "quote_url          37494\n",
       "video                  0\n",
       "thumbnail          27974\n",
       "near               39116\n",
       "geo                39116\n",
       "source             39116\n",
       "user_rt_id         39116\n",
       "user_rt            39116\n",
       "retweet_id         39116\n",
       "reply_to               0\n",
       "retweet_date       39116\n",
       "translate          39116\n",
       "trans_src          39116\n",
       "trans_dest         39116\n",
       "dtype: int64"
      ]
     },
     "execution_count": 11,
     "metadata": {},
     "output_type": "execute_result"
    }
   ],
   "source": [
    "df.isnull().sum()"
   ]
  },
  {
   "cell_type": "code",
   "execution_count": 12,
   "id": "7608d191",
   "metadata": {},
   "outputs": [],
   "source": [
    "df.drop(['place','quote_url','thumbnail','near','geo','source','user_rt_id','user_rt','retweet_id','retweet_date','translate','trans_src','trans_dest'],axis=1,inplace=True)"
   ]
  },
  {
   "cell_type": "code",
   "execution_count": 13,
   "id": "c97c8c35",
   "metadata": {},
   "outputs": [
    {
     "data": {
      "text/plain": [
       "id                 0\n",
       "conversation_id    0\n",
       "created_at         0\n",
       "date               0\n",
       "time               0\n",
       "timezone           0\n",
       "user_id            0\n",
       "username           0\n",
       "name               0\n",
       "tweet              0\n",
       "language           0\n",
       "mentions           0\n",
       "urls               0\n",
       "photos             0\n",
       "replies_count      0\n",
       "retweets_count     0\n",
       "likes_count        0\n",
       "hashtags           0\n",
       "cashtags           0\n",
       "link               0\n",
       "retweet            0\n",
       "video              0\n",
       "reply_to           0\n",
       "dtype: int64"
      ]
     },
     "execution_count": 13,
     "metadata": {},
     "output_type": "execute_result"
    }
   ],
   "source": [
    "df.isnull().sum()"
   ]
  },
  {
   "cell_type": "code",
   "execution_count": 15,
   "id": "1fe1c3df",
   "metadata": {},
   "outputs": [
    {
     "data": {
      "image/png": "[encoded data removed]",
      "text/plain": [
       "<Figure size 640x480 with 1 Axes>"
      ]
     },
     "metadata": {},
     "output_type": "display_data"
    },
    {
     "data": {
      "image/png": "[encoded data removed]",
      "text/plain": [
       "<Figure size 640x480 with 1 Axes>"
      ]
     },
     "metadata": {},
     "output_type": "display_data"
    }
   ],
   "source": [
    "df['year'] = pd.DatetimeIndex(df['date']).year\n",
    "sns.countplot(x ='year', data = df) \n",
    "plt.show()\n",
    "df['month'] = pd.DatetimeIndex(df['date']).month\n",
    "sns.countplot(x ='month', data = df) \n",
    "plt.show()"
   ]
  },
  {
   "cell_type": "code",
   "execution_count": 16,
   "id": "e05ceba8",
   "metadata": {},
   "outputs": [
    {
     "name": "stderr",
     "output_type": "stream",
     "text": [
      "[nltk_data] Downloading package punkt to C:\\Users\\SUJIT\n",
      "[nltk_data]     JADHAV\\AppData\\Roaming\\nltk_data...\n",
      "[nltk_data]   Unzipping tokenizers\\punkt.zip.\n",
      "[nltk_data] Downloading package stopwords to C:\\Users\\SUJIT\n",
      "[nltk_data]     JADHAV\\AppData\\Roaming\\nltk_data...\n",
      "[nltk_data]   Package stopwords is already up-to-date!\n"
     ]
    }
   ],
   "source": [
    "import pandas as pd\n",
    "import nltk\n",
    "import re\n",
    "import string\n",
    "from nltk.corpus import stopwords\n",
    "nltk.download('punkt')\n",
    "nltk.download('stopwords')\n",
    "from nltk.tokenize import word_tokenize\n",
    "\n",
    "stop_words = stopwords.words()"
   ]
  },
  {
   "cell_type": "code",
   "execution_count": 17,
   "id": "811a226b",
   "metadata": {},
   "outputs": [],
   "source": [
    "# Apostrophe Dictionary\n",
    "apostrophe_dict = {\n",
    "\"ain't\": \"am not / are not\",\n",
    "\"aren't\": \"are not / am not\",\n",
    "\"can't\": \"cannot\",\n",
    "\"can't've\": \"cannot have\",\n",
    "\"'cause\": \"because\",\n",
    "\"could've\": \"could have\",\n",
    "\"couldn't\": \"could not\",\n",
    "\"couldn't've\": \"could not have\",\n",
    "\"didn't\": \"did not\",\n",
    "\"doesn't\": \"does not\",\n",
    "\"don't\": \"do not\",\n",
    "\"hadn't\": \"had not\",\n",
    "\"hadn't've\": \"had not have\",\n",
    "\"hasn't\": \"has not\",\n",
    "\"haven't\": \"have not\",\n",
    "\"he'd\": \"he had / he would\",\n",
    "\"he'd've\": \"he would have\",\n",
    "\"he'll\": \"he shall / he will\",\n",
    "\"he'll've\": \"he shall have / he will have\",\n",
    "\"he's\": \"he has / he is\",\n",
    "\"how'd\": \"how did\",\n",
    "\"how'd'y\": \"how do you\",\n",
    "\"how'll\": \"how will\",\n",
    "\"how's\": \"how has / how is\",\n",
    "\"i'd\": \"I had / I would\",\n",
    "\"i'd've\": \"I would have\",\n",
    "\"i'll\": \"I shall / I will\",\n",
    "\"i'll've\": \"I shall have / I will have\",\n",
    "\"i'm\": \"I am\",\n",
    "\"i've\": \"I have\",\n",
    "\"isn't\": \"is not\",\n",
    "\"it'd\": \"it had / it would\",\n",
    "\"it'd've\": \"it would have\",\n",
    "\"it'll\": \"it shall / it will\",\n",
    "\"it'll've\": \"it shall have / it will have\",\n",
    "\"it's\": \"it has / it is\",\n",
    "\"let's\": \"let us\",\n",
    "\"ma'am\": \"madam\",\n",
    "\"mayn't\": \"may not\",\n",
    "\"might've\": \"might have\",\n",
    "\"mightn't\": \"might not\",\n",
    "\"mightn't've\": \"might not have\",\n",
    "\"must've\": \"must have\",\n",
    "\"mustn't\": \"must not\",\n",
    "\"mustn't've\": \"must not have\",\n",
    "\"needn't\": \"need not\",\n",
    "\"needn't've\": \"need not have\",\n",
    "\"o'clock\": \"of the clock\",\n",
    "\"oughtn't\": \"ought not\",\n",
    "\"oughtn't've\": \"ought not have\",\n",
    "\"shan't\": \"shall not\",\n",
    "\"sha'n't\": \"shall not\",\n",
    "\"shan't've\": \"shall not have\",\n",
    "\"she'd\": \"she had / she would\",\n",
    "\"she'd've\": \"she would have\",\n",
    "\"she'll\": \"she shall / she will\",\n",
    "\"she'll've\": \"she shall have / she will have\",\n",
    "\"she's\": \"she has / she is\",\n",
    "\"should've\": \"should have\",\n",
    "\"shouldn't\": \"should not\",\n",
    "\"shouldn't've\": \"should not have\",\n",
    "\"so've\": \"so have\",\n",
    "\"so's\": \"so as / so is\",\n",
    "\"that'd\": \"that would / that had\",\n",
    "\"that'd've\": \"that would have\",\n",
    "\"that's\": \"that has / that is\",\n",
    "\"there'd\": \"there had / there would\",\n",
    "\"there'd've\": \"there would have\",\n",
    "\"there's\": \"there has / there is\",\n",
    "\"they'd\": \"they had / they would\",\n",
    "\"they'd've\": \"they would have\",\n",
    "\"they'll\": \"they shall / they will\",\n",
    "\"they'll've\": \"they shall have / they will have\",\n",
    "\"they're\": \"they are\",\n",
    "\"they've\": \"they have\",\n",
    "\"to've\": \"to have\",\n",
    "\"wasn't\": \"was not\",\n",
    "\"we'd\": \"we had / we would\",\n",
    "\"we'd've\": \"we would have\",\n",
    "\"we'll\": \"we will\",\n",
    "\"we'll've\": \"we will have\",\n",
    "\"we're\": \"we are\",\n",
    "\"we've\": \"we have\",\n",
    "\"weren't\": \"were not\",\n",
    "\"what'll\": \"what shall / what will\",\n",
    "\"what'll've\": \"what shall have / what will have\",\n",
    "\"what're\": \"what are\",\n",
    "\"what's\": \"what has / what is\",\n",
    "\"what've\": \"what have\",\n",
    "\"when's\": \"when has / when is\",\n",
    "\"when've\": \"when have\",\n",
    "\"where'd\": \"where did\",\n",
    "\"where's\": \"where has / where is\",\n",
    "\"where've\": \"where have\",\n",
    "\"who'll\": \"who shall / who will\",\n",
    "\"who'll've\": \"who shall have / who will have\",\n",
    "\"who's\": \"who has / who is\",\n",
    "\"who've\": \"who have\",\n",
    "\"why's\": \"why has / why is\",\n",
    "\"why've\": \"why have\",\n",
    "\"will've\": \"will have\",\n",
    "\"won't\": \"will not\",\n",
    "\"won't've\": \"will not have\",\n",
    "\"would've\": \"would have\",\n",
    "\"wouldn't\": \"would not\",\n",
    "\"wouldn't've\": \"would not have\",\n",
    "\"y'all\": \"you all\",\n",
    "\"y'all'd\": \"you all would\",\n",
    "\"y'all'd've\": \"you all would have\",\n",
    "\"y'all're\": \"you all are\",\n",
    "\"y'all've\": \"you all have\",\n",
    "\"you'd\": \"you had / you would\",\n",
    "\"you'd've\": \"you would have\",\n",
    "\"you'll\": \"you shall / you will\",\n",
    "\"you'll've\": \"you shall have / you will have\",\n",
    "\"you're\": \"you are\",\n",
    "\"you've\": \"you have\",\n",
    "\"rt\":\"\",\n",
    "\"RT\":\"\",\n",
    "\"http\":\"\",\n",
    "\"https\":\"\"\n",
    "}\n",
    "\n",
    "def lookup_dict(text, dictionary):\n",
    "    for word in str(text).split():\n",
    "        if word.lower() in dictionary:\n",
    "            if word.lower() in str(text).split():\n",
    "                text = text.replace(word, dictionary[word.lower()])\n",
    "    return text\n",
    "\n",
    "df['tweet'] = df['tweet'].apply(lambda x: lookup_dict(x,apostrophe_dict))"
   ]
  },
  {
   "cell_type": "code",
   "execution_count": 18,
   "id": "9876fcb1",
   "metadata": {},
   "outputs": [],
   "source": [
    "# Creating token for the clean tweets\n",
    "df['tweet'] =df['tweet'].apply(lambda x: word_tokenize(str(x)))\n",
    "\n",
    "#remove stop words\n",
    "stop_words = set(stopwords.words('english'))\n",
    "# Created new columns of tokens - where stop words are being removed\n",
    "df['tweet'] = df['tweet'].apply(lambda x: [word for word in x if not word in stop_words])\n",
    "## Tokens columns with stop words and without stop words"
   ]
  },
  {
   "cell_type": "code",
   "execution_count": 19,
   "id": "8b8e50da",
   "metadata": {},
   "outputs": [],
   "source": [
    "def cleaning(text):        \n",
    "    # converting to lowercase, removing URL links, special characters, punctuations...\n",
    "    text = str(text)\n",
    "    text = text.lower()\n",
    "    text = re.sub('https?://\\S+|www\\.\\S+', '', text)\n",
    "    text = re.sub('<.*?>+', '', text)\n",
    "    text = re.sub('[%s]' % re.escape(string.punctuation), '', text)\n",
    "    text = re.sub('\\n', '', text)\n",
    "    text = re.sub('[’“”…]', '', text)     \n",
    "\n",
    "    # removing the emojies               # https://www.kaggle.com/alankritamishra/covid-19-tweet-sentiment-analysis#Sentiment-analysis\n",
    "    emoji_pattern = re.compile(\"[\"\n",
    "                           u\"\\U0001F600-\\U0001F64F\"  # emoticons\n",
    "                           u\"\\U0001F300-\\U0001F5FF\"  # symbols & pictographs\n",
    "                           u\"\\U0001F680-\\U0001F6FF\"  # transport & map symbols\n",
    "                           u\"\\U0001F1E0-\\U0001F1FF\"  # flags (iOS)\n",
    "                           u\"\\U00002702-\\U000027B0\"\n",
    "                           u\"\\U000024C2-\\U0001F251\"\n",
    "                           \"]+\", flags=re.UNICODE)\n",
    "    text = emoji_pattern.sub(r'', text)   \n",
    "    \n",
    "    # removing the stop-words          \n",
    "    text_tokens = word_tokenize(text)\n",
    "    tokens_without_sw = [word for word in text_tokens if not word in stop_words]\n",
    "    filtered_sentence = (\" \").join(tokens_without_sw)\n",
    "    text = filtered_sentence\n",
    "    \n",
    "    return text\n",
    "\n",
    "dt = df['tweet'].apply(cleaning)"
   ]
  },
  {
   "cell_type": "code",
   "execution_count": 21,
   "id": "35960be4",
   "metadata": {},
   "outputs": [
    {
     "name": "stdout",
     "output_type": "stream",
     "text": [
      "Collecting textblob\n",
      "  Obtaining dependency information for textblob from https://files.pythonhosted.org/packages/02/07/5fd2945356dd839974d3a25de8a142dc37293c21315729a41e775b5f3569/textblob-0.18.0.post0-py3-none-any.whl.metadata\n",
      "  Downloading textblob-0.18.0.post0-py3-none-any.whl.metadata (4.5 kB)\n",
      "Requirement already satisfied: nltk>=3.8 in c:\\users\\sujit jadhav\\anaconda3\\lib\\site-packages (from textblob) (3.8.1)\n",
      "Requirement already satisfied: click in c:\\users\\sujit jadhav\\anaconda3\\lib\\site-packages (from nltk>=3.8->textblob) (8.0.4)\n",
      "Requirement already satisfied: joblib in c:\\users\\sujit jadhav\\anaconda3\\lib\\site-packages (from nltk>=3.8->textblob) (1.2.0)\n",
      "Requirement already satisfied: regex>=2021.8.3 in c:\\users\\sujit jadhav\\anaconda3\\lib\\site-packages (from nltk>=3.8->textblob) (2022.7.9)\n",
      "Requirement already satisfied: tqdm in c:\\users\\sujit jadhav\\anaconda3\\lib\\site-packages (from nltk>=3.8->textblob) (4.65.0)\n",
      "Requirement already satisfied: colorama in c:\\users\\sujit jadhav\\anaconda3\\lib\\site-packages (from click->nltk>=3.8->textblob) (0.4.6)\n",
      "Downloading textblob-0.18.0.post0-py3-none-any.whl (626 kB)\n",
      "   ---------------------------------------- 0.0/626.3 kB ? eta -:--:--\n",
      "   -------- ------------------------------- 133.1/626.3 kB 2.6 MB/s eta 0:00:01\n",
      "   ---------------- ----------------------- 256.0/626.3 kB 2.6 MB/s eta 0:00:01\n",
      "   ---------------------------------- ----- 542.7/626.3 kB 3.8 MB/s eta 0:00:01\n",
      "   ---------------------------------------- 626.3/626.3 kB 3.6 MB/s eta 0:00:00\n",
      "Installing collected packages: textblob\n",
      "Successfully installed textblob-0.18.0.post0\n",
      "Note: you may need to restart the kernel to use updated packages.\n"
     ]
    }
   ],
   "source": [
    "pip install textblob"
   ]
  },
  {
   "cell_type": "code",
   "execution_count": 22,
   "id": "8616ad32",
   "metadata": {},
   "outputs": [],
   "source": [
    "#calculating sentiments\n",
    "from textblob import TextBlob\n",
    "def GetTextSubjectivity(txt):\n",
    "    txt=str(txt)\n",
    "    return TextBlob(txt).sentiment.subjectivity\n",
    "\n",
    "def GetTextPolarity(txt):\n",
    "    txt=str(txt)\n",
    "    return TextBlob(txt).sentiment.polarity\n",
    "\n",
    "df['Subjectivity'] = df['tweet'].apply(GetTextSubjectivity)\n",
    "df['Polarity'] = df['tweet'].apply(GetTextPolarity)\n",
    "\n",
    "def GetTextAnalysis(a):\n",
    "    if a<0:\n",
    "        return \"Negative\"\n",
    "    elif a==0:\n",
    "        return \"Neutral\"\n",
    "    else:\n",
    "        return \"Positive\"\n",
    "    \n",
    "df[\"Score\"]=df['Polarity'].apply(GetTextAnalysis)"
   ]
  },
  {
   "cell_type": "code",
   "execution_count": 23,
   "id": "8a50dcfb",
   "metadata": {},
   "outputs": [
    {
     "name": "stdout",
     "output_type": "stream",
     "text": [
      "47% Positive tweets\n",
      "12% Negative tweets\n",
      "40% neutral tweets\n"
     ]
    }
   ],
   "source": [
    "positive=df[df['Score']=='Positive']\n",
    "print (str(round(positive.shape[0]/(df.shape[0])*100)) + \"% Positive tweets\")\n",
    "pos = positive.shape[0]/(df.shape[0])*100\n",
    "\n",
    "negative=df[df['Score']=='Negative']\n",
    "print (str(round(negative.shape[0]/(df.shape[0])*100)) + \"% Negative tweets\")\n",
    "neg = negative.shape[0]/df.shape[0]*100\n",
    "\n",
    "neutral=df[df['Score']=='Neutral']\n",
    "print (str(round((neutral.shape[0])/(df.shape[0])*100)) + \"% neutral tweets\")\n",
    "neu = neutral.shape[0]/df.shape[0]*100"
   ]
  },
  {
   "cell_type": "code",
   "execution_count": 24,
   "id": "21b43e99",
   "metadata": {},
   "outputs": [
    {
     "data": {
      "text/plain": [
       "(-1.1002061429726202,\n",
       " 1.1043380483180723,\n",
       " -1.1024832115292633,\n",
       " 1.1523187390536995)"
      ]
     },
     "execution_count": 24,
     "metadata": {},
     "output_type": "execute_result"
    },
    {
     "data": {
      "image/png": "[encoded data removed]",
      "text/plain": [
       "<Figure size 640x480 with 1 Axes>"
      ]
     },
     "metadata": {},
     "output_type": "display_data"
    }
   ],
   "source": [
    "#viewing % posi , neg , neu tweets\n",
    "explode=(0.05,0,0)\n",
    "labels = 'positive','negative','neutral'\n",
    "sizes = [pos,neg,neu]\n",
    "colours=['#9BBFE0','#E8A09A','#FBE29F']\n",
    "plt.pie(sizes,explode=explode,colors=colours,autopct='%.2f%%',startangle=0)\n",
    "plt.title('Percentage of Sentiment in all Tweets \\n', fontsize=24)\n",
    "plt.legend(labels,loc=(-0.05,0.05),shadow=True)\n",
    "plt.axis('equal')"
   ]
  },
  {
   "cell_type": "code",
   "execution_count": null,
   "id": "f4ff1b8b",
   "metadata": {},
   "outputs": [],
   "source": []
  }
 ],
 "metadata": {
  "kernelspec": {
   "display_name": "Python 3 (ipykernel)",
   "language": "python",
   "name": "python3"
  },
  "language_info": {
   "codemirror_mode": {
    "name": "ipython",
    "version": 3
   },
   "file_extension": ".py",
   "mimetype": "text/x-python",
   "name": "python",
   "nbconvert_exporter": "python",
   "pygments_lexer": "ipython3",
   "version": "3.11.4"
  }
 },
 "nbformat": 4,
 "nbformat_minor": 5
}
